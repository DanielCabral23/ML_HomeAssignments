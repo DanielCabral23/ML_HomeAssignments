{
 "cells": [
  {
   "cell_type": "code",
   "execution_count": 10,
   "id": "b3b63120-8144-4456-9223-6e240a912e11",
   "metadata": {},
   "outputs": [],
   "source": [
    "import numpy as np\n",
    "import pandas as pd\n",
    "from sklearn.preprocessing import StandardScaler\n",
    "from sklearn.pipeline import Pipeline\n",
    "from sklearn.model_selection import train_test_split, GridSearchCV\n",
    "from sklearn.linear_model import Lasso\n"
   ]
  },
  {
   "cell_type": "code",
   "execution_count": 11,
   "id": "c09e3952-c2d9-4d03-be2f-1a885a1290bf",
   "metadata": {},
   "outputs": [],
   "source": [
    "#Leitura dos dados\n",
    "bio = pd.read_csv('biodegradable_a.csv')\n",
    "\n",
    "#Remoção de missing values, para poder aplicar o Lasso Regression\n",
    "bio = bio.dropna(axis=0)\n",
    "\n",
    "#Conjunto dos dados\n",
    "X = bio.values[:,range(0,41)]\n",
    "\n",
    "#Variável independente -> Como era categorica teve de ser passada para variáveis dummy, para que se possa aplicar Lasso Regression\n",
    "y_bio = pd.get_dummies(bio['Biodegradable'])\n",
    "y_bio = y_bio.dropna(axis=0)\n",
    "\n",
    "\n",
    "#Features\n",
    "features = np.array(bio.columns)[range(0,42)]\n",
    "\n",
    "featuresl = []\n",
    "for i in features:\n",
    "    featuresl.append(i)\n",
    "\n",
    "\n",
    "\n"
   ]
  },
  {
   "cell_type": "code",
   "execution_count": 12,
   "id": "dda4234a-8330-4da6-9e4e-98e607263fb3",
   "metadata": {},
   "outputs": [],
   "source": [
    "#Separação do nosso conjunto de dados em conjunto de treino e conjunto de teste\n",
    "X_train, X_test, y_train, y_test = train_test_split(X,y_bio,test_size = 0.33, random_state=42)\n"
   ]
  },
  {
   "cell_type": "code",
   "execution_count": 13,
   "id": "dc1a74d2-203d-40ea-872a-d782a9a333f9",
   "metadata": {},
   "outputs": [
    {
     "name": "stdout",
     "output_type": "stream",
     "text": [
      "Pipeline(steps=[('scaler', StandardScaler()), ('model', Lasso())])\n"
     ]
    }
   ],
   "source": [
    "#Standardização dos dados, porque os dados ainda não estão normalizados\n",
    "#O sci-kit-learn tem um tipo de objeto chamado pipeline que pode ser usado para isso\n",
    "\n",
    "pipeline = Pipeline([('scaler', StandardScaler()),('model',Lasso())])\n",
    "print(pipeline)"
   ]
  },
  {
   "cell_type": "code",
   "execution_count": 14,
   "id": "5ef8d87d-0f7a-439e-ac36-b92ed3f3ae2c",
   "metadata": {},
   "outputs": [],
   "source": [
    "#O nosso objetivo agora é ótimizar o parâmetro alpha da regressão de Lasso. \n",
    "search = GridSearchCV(pipeline,\n",
    "                      {'model__alpha':np.arange(0.00001,0.001,0.00001)},\n",
    "                      cv = 5, scoring=\"neg_mean_squared_error\",verbose=3\n",
    "                      )\n"
   ]
  },
  {
   "cell_type": "code",
   "execution_count": 23,
   "id": "dcd7977b-991b-47b3-89dd-3b4ebb5eab2b",
   "metadata": {},
   "outputs": [],
   "source": [
    "#fit the grid search\n",
    "#search.fit(X_train, y_train)"
   ]
  },
  {
   "cell_type": "code",
   "execution_count": 16,
   "id": "d7e5e32f-5715-4700-84f5-1919b919a7eb",
   "metadata": {},
   "outputs": [
    {
     "data": {
      "text/plain": [
       "{'model__alpha': 0.0009600000000000001}"
      ]
     },
     "execution_count": 16,
     "metadata": {},
     "output_type": "execute_result"
    }
   ],
   "source": [
    "#O melhor valor para alpha é então: 0.001\n",
    "search.best_params_"
   ]
  },
  {
   "cell_type": "code",
   "execution_count": 17,
   "id": "28a590dd-4260-4d6f-ba44-4d57cb1ef360",
   "metadata": {},
   "outputs": [
    {
     "name": "stdout",
     "output_type": "stream",
     "text": [
      "[[ 0.1220188   0.03612272  0.01719315  0.04732871  0.00663032  0.08193625\n",
      "   0.07249524 -0.15594364  0.05800591 -0.02145448  0.00762294 -0.00720335\n",
      "   0.11210142 -0.06594598 -0.13435029  0.0294343   0.09197105 -0.0265986\n",
      "  -0.01888669  0.04113896 -0.          0.06773263  0.05873283  0.04897446\n",
      "   0.08297718 -0.01929874 -0.00600967 -0.00533039 -0.0376385  -0.04636005\n",
      "   0.         -0.01658712 -0.00915659  0.10415969 -0.01758548 -0.02983524\n",
      "  -0.10021833  0.01937341  0.         -0.02571369 -0.07645547]\n",
      " [-0.1220188  -0.03612272 -0.01719315 -0.04732871 -0.00663032 -0.08193625\n",
      "  -0.07249524  0.15594364 -0.05800591  0.02145448 -0.00762294  0.00720335\n",
      "  -0.11210142  0.06594598  0.13435029 -0.0294343  -0.09197105  0.0265986\n",
      "   0.01888669 -0.04113896  0.         -0.06773263 -0.05873283 -0.04897446\n",
      "  -0.08297718  0.01929874  0.00600967  0.00533039  0.0376385   0.04636005\n",
      "  -0.          0.01658712  0.00915659 -0.10415969  0.01758548  0.02983524\n",
      "   0.10021833 -0.01937341 -0.          0.02571369  0.07645547]]\n"
     ]
    }
   ],
   "source": [
    "#Agora que temos o valor de aplha, queremos determinar o valor dos coeficientes da Regressão de Lasso\n",
    "coefficients = search.best_estimator_.named_steps['model'].coef_\n",
    "print(coefficients)"
   ]
  },
  {
   "cell_type": "code",
   "execution_count": 18,
   "id": "244bc257-e4e7-46b6-9de3-8dd2398e9bc2",
   "metadata": {},
   "outputs": [
    {
     "name": "stdout",
     "output_type": "stream",
     "text": [
      "[[0.1220188  0.03612272 0.01719315 0.04732871 0.00663032 0.08193625\n",
      "  0.07249524 0.15594364 0.05800591 0.02145448 0.00762294 0.00720335\n",
      "  0.11210142 0.06594598 0.13435029 0.0294343  0.09197105 0.0265986\n",
      "  0.01888669 0.04113896 0.         0.06773263 0.05873283 0.04897446\n",
      "  0.08297718 0.01929874 0.00600967 0.00533039 0.0376385  0.04636005\n",
      "  0.         0.01658712 0.00915659 0.10415969 0.01758548 0.02983524\n",
      "  0.10021833 0.01937341 0.         0.02571369 0.07645547]\n",
      " [0.1220188  0.03612272 0.01719315 0.04732871 0.00663032 0.08193625\n",
      "  0.07249524 0.15594364 0.05800591 0.02145448 0.00762294 0.00720335\n",
      "  0.11210142 0.06594598 0.13435029 0.0294343  0.09197105 0.0265986\n",
      "  0.01888669 0.04113896 0.         0.06773263 0.05873283 0.04897446\n",
      "  0.08297718 0.01929874 0.00600967 0.00533039 0.0376385  0.04636005\n",
      "  0.         0.01658712 0.00915659 0.10415969 0.01758548 0.02983524\n",
      "  0.10021833 0.01937341 0.         0.02571369 0.07645547]]\n",
      "[0.12201879632716901, 0.03612271805446277, 0.01719315317257332, 0.04732871292583562, 0.00663032230501292, 0.08193625412919898, 0.07249523892973353, 0.15594364473951688, 0.05800590780363249, 0.02145447728930037, 0.007622939752491062, 0.007203352845611521, 0.11210141666462672, 0.06594598485631556, 0.1343502923360056, 0.029434297617239858, 0.09197105157514555, 0.026598596683570067, 0.01888668795088365, 0.04113896426088299, 0.0, 0.06773263038474815, 0.05873283056398806, 0.04897446230783449, 0.08297717535907337, 0.01929873722200194, 0.006009674522712333, 0.005330388482115831, 0.03763850366646402, 0.04636004560407446, 0.0, 0.01658711809117027, 0.009156593947985183, 0.10415968950610514, 0.017585477674800672, 0.029835237085256688, 0.10021833441952697, 0.019373408649925004, 0.0, 0.025713689734004577, 0.07645546967829585]\n",
      "[0, 7, 12, 14, 33, 36]\n",
      "['SpMax_L', 'C', 'HyWi_B', 'SM6_L', 'F02_CN', 'Psi_i_A']\n"
     ]
    }
   ],
   "source": [
    "#Agora vamos ver o quão importante é cada feature, para isso, teremos de avaliar o valor absoluto do seu coeficiente:\n",
    "importance = np.abs(coefficients)\n",
    "print(importance)\n",
    "soma = 0\n",
    "lista = []\n",
    "lista2 = []\n",
    "bfeatures = []\n",
    "for i in range(0,41):\n",
    "        lista.append(importance[0][i])\n",
    "print(lista)\n",
    "\n",
    "for i in lista:\n",
    "    if i > 0.1:\n",
    "        lista2.append(lista.index(i))\n",
    "print(lista2)\n",
    "for i in lista2:\n",
    "    bfeatures.append(features[i])\n",
    "print(bfeatures)"
   ]
  },
  {
   "cell_type": "code",
   "execution_count": 179,
   "id": "38528bae-8ece-43e3-94c7-5d1c70e433fa",
   "metadata": {},
   "outputs": [
    {
     "name": "stdout",
     "output_type": "stream",
     "text": [
      "['SpMax_L', 'NssssC', 'nCb', 'C', 'nCp', 'HyWi_B', 'LOC', 'SM6_L', 'Me', 'SpPosA_B', 'nCIR', 'B03', 'F02_CN', 'Psi_i_A', 'nX']\n"
     ]
    },
    {
     "data": {
      "text/plain": [
       "15"
      ]
     },
     "execution_count": 179,
     "metadata": {},
     "output_type": "execute_result"
    }
   ],
   "source": [
    "#Selecionar as features mais importantes (as que têm importancia > 0.1) (deve haver uma forma mais fácil de fazer isto)\n",
    "soma = 0\n",
    "lista = []\n",
    "lista2 = []\n",
    "bfeatures = []\n",
    "for i in range(0,41):\n",
    "        lista.append(importance[0][i])\n",
    "for i in lista:\n",
    "    if i > 0.05:\n",
    "        lista2.append(lista.index(i))\n",
    "for i in lista2:\n",
    "    bfeatures.append(features[i])\n",
    "print(bfeatures)\n",
    "len(bfeatures)\n",
    "#"
   ]
  },
  {
   "cell_type": "code",
   "execution_count": 24,
   "id": "a9faaa27-d846-4f20-bb13-79d926c1a984",
   "metadata": {},
   "outputs": [],
   "source": [
    "import pandas as pd\n",
    "from sklearn.model_selection import train_test_split\n",
    "from sklearn.preprocessing import StandardScaler\n",
    "from sklearn.linear_model import Ridge\n",
    "from sklearn.pipeline import make_pipeline\n",
    "from sklearn.metrics import mean_squared_error, r2_score\n",
    "from sklearn import datasets"
   ]
  },
  {
   "cell_type": "code",
   "execution_count": 35,
   "id": "7e51a06e-2a28-462b-b7a4-232f2a9c7f2d",
   "metadata": {},
   "outputs": [
    {
     "data": {
      "text/plain": [
       "Pipeline(steps=[('standardscaler', StandardScaler()), ('ridge', Ridge())])"
      ]
     },
     "execution_count": 35,
     "metadata": {},
     "output_type": "execute_result"
    }
   ],
   "source": [
    "pipeline = make_pipeline(StandardScaler(), Ridge(alpha=1.0))\n",
    "pipeline.fit(X_train, y_train)"
   ]
  },
  {
   "cell_type": "code",
   "execution_count": 36,
   "id": "7d8ec1e2-17a6-4c61-a75d-32e2a596ebf3",
   "metadata": {},
   "outputs": [
    {
     "name": "stdout",
     "output_type": "stream",
     "text": [
      "MSE train: 0.046, test: 0.097\n",
      "R^2 train: 0.657, test: 0.325\n"
     ]
    }
   ],
   "source": [
    "\n",
    "y_train_pred = pipeline.predict(X_train)\n",
    "y_test_pred = pipeline.predict(X_test)\n",
    "print('MSE train: %.3f, test: %.3f' % (mean_squared_error(y_train, y_train_pred),\n",
    "                mean_squared_error(y_test, y_test_pred)))\n",
    "print('R^2 train: %.3f, test: %.3f' % (r2_score(y_train, y_train_pred), r2_score(y_test, y_test_pred)))"
   ]
  }
 ],
 "metadata": {
  "kernelspec": {
   "display_name": "Python 3 (ipykernel)",
   "language": "python",
   "name": "python3"
  },
  "language_info": {
   "codemirror_mode": {
    "name": "ipython",
    "version": 3
   },
   "file_extension": ".py",
   "mimetype": "text/x-python",
   "name": "python",
   "nbconvert_exporter": "python",
   "pygments_lexer": "ipython3",
   "version": "3.9.12"
  }
 },
 "nbformat": 4,
 "nbformat_minor": 5
}
